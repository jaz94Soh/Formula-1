{
 "cells": [
  {
   "cell_type": "code",
   "execution_count": 1,
   "metadata": {},
   "outputs": [],
   "source": [
    "import fastf1 as ff1\n",
    "from fastf1 import plotting\n",
    "from matplotlib import pyplot as plt\n",
    "from matplotlib.pyplot import figure\n",
    "from matplotlib.collections import LineCollection\n",
    "from matplotlib import cm\n",
    "import numpy as np\n",
    "import pandas as pd"
   ]
  },
  {
   "cell_type": "code",
   "execution_count": 2,
   "metadata": {},
   "outputs": [],
   "source": [
    "#setup plotting \n",
    "\n",
    "plotting.setup_mpl()\n",
    "\n",
    "# Enable the cache\n",
    "ff1.Cache.enable_cache('cache') \n",
    "\n",
    "# Get rid of some pandas warnings that are not relevant for us at the moment\n",
    "pd.options.mode.chained_assignment = None"
   ]
  },
  {
   "cell_type": "code",
   "execution_count": 3,
   "metadata": {},
   "outputs": [],
   "source": [
    "import json\n",
    "with open('track.json', 'r') as file:\n",
    "    data = json.load(file)\n",
    "\n",
    "df = pd.DataFrame(data['Tracks'])\n"
   ]
  },
  {
   "cell_type": "code",
   "execution_count": 18,
   "metadata": {},
   "outputs": [
    {
     "name": "stderr",
     "output_type": "stream",
     "text": [
      "core           INFO \tLoading data for Bahrain Grand Prix - Race [v3.3.9]\n",
      "req            INFO \tUsing cached data for session_info\n",
      "req            INFO \tUsing cached data for driver_info\n",
      "req            INFO \tUsing cached data for session_status_data\n",
      "req            INFO \tUsing cached data for lap_count\n",
      "req            INFO \tUsing cached data for track_status_data\n",
      "req            INFO \tUsing cached data for _extended_timing_data\n",
      "req            INFO \tUsing cached data for timing_app_data\n",
      "core           INFO \tProcessing timing data...\n",
      "req            INFO \tUsing cached data for car_data\n",
      "req            INFO \tUsing cached data for position_data\n",
      "req            INFO \tUsing cached data for weather_data\n",
      "req            INFO \tUsing cached data for race_control_messages\n",
      "core           INFO \tFinished loading data for 20 drivers: ['1', '11', '55', '16', '63', '4', '44', '81', '14', '18', '24', '20', '3', '22', '23', '27', '31', '10', '77', '2']\n",
      "core           INFO \tLoading data for Spanish Grand Prix - Race [v3.3.9]\n",
      "req            INFO \tUsing cached data for session_info\n",
      "req            INFO \tUsing cached data for driver_info\n",
      "req            INFO \tUsing cached data for session_status_data\n",
      "req            INFO \tUsing cached data for lap_count\n",
      "req            INFO \tUsing cached data for track_status_data\n",
      "req            INFO \tUsing cached data for _extended_timing_data\n",
      "req            INFO \tUsing cached data for timing_app_data\n",
      "core           INFO \tProcessing timing data...\n",
      "req            INFO \tUsing cached data for car_data\n",
      "req            INFO \tUsing cached data for position_data\n",
      "req            INFO \tUsing cached data for weather_data\n",
      "req            INFO \tUsing cached data for race_control_messages\n",
      "core           INFO \tFinished loading data for 20 drivers: ['1', '4', '44', '63', '16', '55', '81', '11', '10', '31', '27', '14', '24', '18', '3', '77', '20', '23', '22', '2']\n",
      "core        WARNING \tFailed to preserve data type for column 'X' while merging telemetry.\n",
      "core        WARNING \tFailed to preserve data type for column 'Y' while merging telemetry.\n",
      "core        WARNING \tFailed to preserve data type for column 'Z' while merging telemetry.\n",
      "core           INFO \tLoading data for Australian Grand Prix - Race [v3.3.9]\n",
      "req            INFO \tUsing cached data for session_info\n",
      "req            INFO \tUsing cached data for driver_info\n",
      "Request for URL https://ergast.com/api/f1/2024/3/results.json failed; using cached response\n",
      "Traceback (most recent call last):\n",
      "  File \"c:\\Users\\Uni\\anaconda3\\envs\\formula1_python\\lib\\site-packages\\urllib3\\connectionpool.py\", line 699, in urlopen\n",
      "    httplib_response = self._make_request(\n",
      "  File \"c:\\Users\\Uni\\anaconda3\\envs\\formula1_python\\lib\\site-packages\\urllib3\\connectionpool.py\", line 445, in _make_request\n",
      "    six.raise_from(e, None)\n",
      "  File \"<string>\", line 3, in raise_from\n",
      "  File \"c:\\Users\\Uni\\anaconda3\\envs\\formula1_python\\lib\\site-packages\\urllib3\\connectionpool.py\", line 440, in _make_request\n",
      "    httplib_response = conn.getresponse()\n",
      "  File \"c:\\Users\\Uni\\anaconda3\\envs\\formula1_python\\lib\\http\\client.py\", line 1348, in getresponse\n",
      "    response.begin()\n",
      "  File \"c:\\Users\\Uni\\anaconda3\\envs\\formula1_python\\lib\\http\\client.py\", line 316, in begin\n",
      "    version, status, reason = self._read_status()\n",
      "  File \"c:\\Users\\Uni\\anaconda3\\envs\\formula1_python\\lib\\http\\client.py\", line 285, in _read_status\n",
      "    raise RemoteDisconnected(\"Remote end closed connection without\"\n",
      "http.client.RemoteDisconnected: Remote end closed connection without response\n",
      "\n",
      "During handling of the above exception, another exception occurred:\n",
      "\n",
      "Traceback (most recent call last):\n",
      "  File \"c:\\Users\\Uni\\anaconda3\\envs\\formula1_python\\lib\\site-packages\\requests\\adapters.py\", line 667, in send\n",
      "    resp = conn.urlopen(\n",
      "  File \"c:\\Users\\Uni\\anaconda3\\envs\\formula1_python\\lib\\site-packages\\urllib3\\connectionpool.py\", line 755, in urlopen\n",
      "    retries = retries.increment(\n",
      "  File \"c:\\Users\\Uni\\anaconda3\\envs\\formula1_python\\lib\\site-packages\\urllib3\\util\\retry.py\", line 532, in increment\n",
      "    raise six.reraise(type(error), error, _stacktrace)\n",
      "  File \"c:\\Users\\Uni\\anaconda3\\envs\\formula1_python\\lib\\site-packages\\urllib3\\packages\\six.py\", line 769, in reraise\n",
      "    raise value.with_traceback(tb)\n",
      "  File \"c:\\Users\\Uni\\anaconda3\\envs\\formula1_python\\lib\\site-packages\\urllib3\\connectionpool.py\", line 699, in urlopen\n",
      "    httplib_response = self._make_request(\n",
      "  File \"c:\\Users\\Uni\\anaconda3\\envs\\formula1_python\\lib\\site-packages\\urllib3\\connectionpool.py\", line 445, in _make_request\n",
      "    six.raise_from(e, None)\n",
      "  File \"<string>\", line 3, in raise_from\n",
      "  File \"c:\\Users\\Uni\\anaconda3\\envs\\formula1_python\\lib\\site-packages\\urllib3\\connectionpool.py\", line 440, in _make_request\n",
      "    httplib_response = conn.getresponse()\n",
      "  File \"c:\\Users\\Uni\\anaconda3\\envs\\formula1_python\\lib\\http\\client.py\", line 1348, in getresponse\n",
      "    response.begin()\n",
      "  File \"c:\\Users\\Uni\\anaconda3\\envs\\formula1_python\\lib\\http\\client.py\", line 316, in begin\n",
      "    version, status, reason = self._read_status()\n",
      "  File \"c:\\Users\\Uni\\anaconda3\\envs\\formula1_python\\lib\\http\\client.py\", line 285, in _read_status\n",
      "    raise RemoteDisconnected(\"Remote end closed connection without\"\n",
      "urllib3.exceptions.ProtocolError: ('Connection aborted.', RemoteDisconnected('Remote end closed connection without response'))\n",
      "\n",
      "During handling of the above exception, another exception occurred:\n",
      "\n",
      "Traceback (most recent call last):\n",
      "  File \"c:\\Users\\Uni\\anaconda3\\envs\\formula1_python\\lib\\site-packages\\requests_cache\\session.py\", line 286, in _resend\n",
      "    response = self._send_and_cache(request, actions, cached_response, **kwargs)\n",
      "  File \"c:\\Users\\Uni\\anaconda3\\envs\\formula1_python\\lib\\site-packages\\requests_cache\\session.py\", line 254, in _send_and_cache\n",
      "    response = super().send(request, **kwargs)\n",
      "  File \"c:\\Users\\Uni\\anaconda3\\envs\\formula1_python\\lib\\site-packages\\fastf1\\req.py\", line 127, in send\n",
      "    return super().send(request, **kwargs)\n",
      "  File \"c:\\Users\\Uni\\anaconda3\\envs\\formula1_python\\lib\\site-packages\\requests\\sessions.py\", line 703, in send\n",
      "    r = adapter.send(request, **kwargs)\n",
      "  File \"c:\\Users\\Uni\\anaconda3\\envs\\formula1_python\\lib\\site-packages\\requests\\adapters.py\", line 682, in send\n",
      "    raise ConnectionError(err, request=request)\n",
      "requests.exceptions.ConnectionError: ('Connection aborted.', RemoteDisconnected('Remote end closed connection without response'))\n",
      "req            INFO \tUsing cached data for session_status_data\n",
      "req            INFO \tUsing cached data for lap_count\n",
      "req            INFO \tUsing cached data for track_status_data\n",
      "req            INFO \tUsing cached data for _extended_timing_data\n",
      "req            INFO \tUsing cached data for timing_app_data\n",
      "core           INFO \tProcessing timing data...\n",
      "req            INFO \tUsing cached data for car_data\n",
      "req            INFO \tUsing cached data for position_data\n",
      "req            INFO \tUsing cached data for weather_data\n",
      "req            INFO \tUsing cached data for race_control_messages\n",
      "core           INFO \tFinished loading data for 19 drivers: ['55', '16', '4', '81', '11', '18', '22', '14', '27', '20', '23', '3', '10', '77', '24', '31', '63', '44', '1']\n",
      "core        WARNING \tFailed to preserve data type for column 'X' while merging telemetry.\n",
      "core        WARNING \tFailed to preserve data type for column 'Y' while merging telemetry.\n",
      "core        WARNING \tFailed to preserve data type for column 'Z' while merging telemetry.\n"
     ]
    }
   ],
   "source": [
    "# Load the session data\n",
    "hh=[]\n",
    "for i in range(len(df)):\n",
    "    \n",
    "    track = df.Name[i]\n",
    "\n",
    "    ses = ff1.get_session(2024, track, 'R')\n",
    "\n",
    "\n",
    "    # Get the laps\n",
    "    ses.load()\n",
    "    #laps = ses.laps()\n",
    "    circuit_info = ses.get_circuit_info()\n",
    "    g= df.corners[i]\n",
    "    h= df.overtake[i]\n",
    "    corner_dist = circuit_info.corners[circuit_info.corners.Number.isin(g)].Distance.to_list()\n",
    "    overtake_dist = circuit_info.corners[circuit_info.corners.Number.isin(h)].Distance.to_list()\n",
    "\n",
    "\n",
    "    laps = ses.laps\n",
    "    lap = laps.pick_driver('HAM').iloc[2]\n",
    "\n",
    "    # Get telemetry data for this lap\n",
    "    telemetry = lap.get_telemetry()\n",
    "        \n",
    "\n",
    "        \n",
    "    \n",
    "\n",
    "\n",
    "\n"
   ]
  },
  {
   "cell_type": "code",
   "execution_count": 19,
   "metadata": {},
   "outputs": [
    {
     "data": {
      "text/plain": [
       "[41, 163, 472, 53, 'error', 101]"
      ]
     },
     "execution_count": 19,
     "metadata": {},
     "output_type": "execute_result"
    }
   ],
   "source": [
    "hh"
   ]
  },
  {
   "cell_type": "code",
   "execution_count": 5,
   "metadata": {},
   "outputs": [
    {
     "data": {
      "text/plain": [
       "0     343.852594\n",
       "1     425.515181\n",
       "2    1060.244502\n",
       "3    1212.127634\n",
       "Name: Distance, dtype: float64"
      ]
     },
     "execution_count": 5,
     "metadata": {},
     "output_type": "execute_result"
    }
   ],
   "source": [
    "#ses.load()  # Load the session data\n",
    "\n",
    "# Get circuit information\n",
    "circuit_info = ses.get_circuit_info()\n",
    "g=[1,2,3,4]\n",
    "bahrain = circuit_info.corners[circuit_info.corners.Number.isin(g)].Distance\n",
    "bahrain\n"
   ]
  },
  {
   "cell_type": "code",
   "execution_count": 6,
   "metadata": {},
   "outputs": [],
   "source": [
    "laps = ses.laps "
   ]
  },
  {
   "cell_type": "code",
   "execution_count": 27,
   "metadata": {},
   "outputs": [],
   "source": [
    "lap = laps.pick_driver('GAS').iloc[8]\n",
    "\n",
    "# Get telemetry data for this lap\n",
    "telemetry = lap.get_telemetry()\n",
    "\n",
    "# Find index before braking zone\n",
    "cornerindex = telemetry[(telemetry.Distance > (bahrain[0]-5)) & (telemetry.Distance < (bahrain[0]+5))].index[0] \n",
    "\n",
    "last_acc_index = telemetry.iloc[cornerindex-35:cornerindex]['Throttle'][::-1].loc[lambda x:x==100].index[4]\n",
    "\n",
    "Pre_Brake_Dist = telemetry.iloc[last_acc_index]['Distance']\n",
    "\n",
    "Pre_Brake_Speed = telemetry.iloc[last_acc_index]['Speed']\n",
    "\n",
    "corner_speed = telemetry.iloc[cornerindex]['Speed']\n"
   ]
  },
  {
   "cell_type": "code",
   "execution_count": 28,
   "metadata": {},
   "outputs": [
    {
     "name": "stdout",
     "output_type": "stream",
     "text": [
      "311\n",
      "150\n"
     ]
    }
   ],
   "source": [
    "print(Pre_Brake_Speed)\n",
    "print(corner_speed)"
   ]
  },
  {
   "cell_type": "code",
   "execution_count": 29,
   "metadata": {},
   "outputs": [],
   "source": [
    "lap_tyre_df = laps[['Driver', 'LapTime','Compound', 'TyreLife']]\n",
    "lap_driver = lap_tyre_df.groupby(['Driver','Compound'], as_index=False)['TyreLife'].max()\n",
    "Comp_av = lap_driver.groupby(['Compound'],as_index=False)['TyreLife'].mean()\n"
   ]
  },
  {
   "cell_type": "code",
   "execution_count": 31,
   "metadata": {},
   "outputs": [
    {
     "data": {
      "text/html": [
       "<div>\n",
       "<style scoped>\n",
       "    .dataframe tbody tr th:only-of-type {\n",
       "        vertical-align: middle;\n",
       "    }\n",
       "\n",
       "    .dataframe tbody tr th {\n",
       "        vertical-align: top;\n",
       "    }\n",
       "\n",
       "    .dataframe thead th {\n",
       "        text-align: right;\n",
       "    }\n",
       "</style>\n",
       "<table border=\"1\" class=\"dataframe\">\n",
       "  <thead>\n",
       "    <tr style=\"text-align: right;\">\n",
       "      <th></th>\n",
       "      <th>Compound</th>\n",
       "      <th>TyreLife</th>\n",
       "    </tr>\n",
       "  </thead>\n",
       "  <tbody>\n",
       "    <tr>\n",
       "      <th>0</th>\n",
       "      <td>HARD</td>\n",
       "      <td>26.0000</td>\n",
       "    </tr>\n",
       "    <tr>\n",
       "      <th>1</th>\n",
       "      <td>MEDIUM</td>\n",
       "      <td>11.4375</td>\n",
       "    </tr>\n",
       "    <tr>\n",
       "      <th>2</th>\n",
       "      <td>SOFT</td>\n",
       "      <td>6.0000</td>\n",
       "    </tr>\n",
       "  </tbody>\n",
       "</table>\n",
       "</div>"
      ],
      "text/plain": [
       "  Compound  TyreLife\n",
       "0     HARD   26.0000\n",
       "1   MEDIUM   11.4375\n",
       "2     SOFT    6.0000"
      ]
     },
     "execution_count": 31,
     "metadata": {},
     "output_type": "execute_result"
    }
   ],
   "source": [
    "Comp_av"
   ]
  },
  {
   "cell_type": "code",
   "execution_count": null,
   "metadata": {},
   "outputs": [],
   "source": []
  }
 ],
 "metadata": {
  "kernelspec": {
   "display_name": "formula1_python",
   "language": "python",
   "name": "python3"
  },
  "language_info": {
   "codemirror_mode": {
    "name": "ipython",
    "version": 3
   },
   "file_extension": ".py",
   "mimetype": "text/x-python",
   "name": "python",
   "nbconvert_exporter": "python",
   "pygments_lexer": "ipython3",
   "version": "3.8.12"
  },
  "orig_nbformat": 4,
  "vscode": {
   "interpreter": {
    "hash": "69130f957c0b57613547bfd4a67bd80f74d755818288fe83654a2d4e76d1c51b"
   }
  }
 },
 "nbformat": 4,
 "nbformat_minor": 2
}
